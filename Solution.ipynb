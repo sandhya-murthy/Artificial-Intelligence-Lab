{
 "cells": [
  {
   "cell_type": "code",
   "execution_count": 3,
   "id": "b5772f66-1dda-4fdc-946c-69ee148f460c",
   "metadata": {},
   "outputs": [
    {
     "name": "stdout",
     "output_type": "stream",
     "text": [
      "4\n"
     ]
    }
   ],
   "source": [
    "class Solution:\n",
    "    def solve(self, board):\n",
    "        state_dict = {}\n",
    "        flatten = []\n",
    "        \n",
    "        for i in range(len(board)):\n",
    "            flatten += board[i]  \n",
    "        \n",
    "        flatten = tuple(flatten)\n",
    "        state_dict[flatten] = 0\n",
    "        \n",
    "        if flatten == (0, 1, 2, 3, 4, 5, 6, 7, 8):\n",
    "            return 0\n",
    "        \n",
    "        return self.get_paths(state_dict)\n",
    "    \n",
    "    def get_paths(self, state_dict):\n",
    "        cnt = 0\n",
    "        \n",
    "        while True:\n",
    "            current_nodes = [x for x in state_dict if state_dict[x] == cnt]\n",
    "            if len(current_nodes) == 0:\n",
    "                return -1\n",
    "            \n",
    "            for node in current_nodes:\n",
    "                next_moves = self.find_next(node)\n",
    "                for move in next_moves:\n",
    "                    if move not in state_dict:\n",
    "                        state_dict[move] = cnt + 1\n",
    "                        if move == (0, 1, 2, 3, 4, 5, 6, 7, 8):\n",
    "                            return cnt + 1\n",
    "            \n",
    "            cnt += 1\n",
    "    \n",
    "    def find_next(self, node):\n",
    "        moves = {\n",
    "            0: [1, 3],\n",
    "            1: [0, 2, 4],\n",
    "            2: [1, 5],\n",
    "            3: [0, 4, 6],\n",
    "            4: [1, 3, 5, 7],\n",
    "            5: [2, 4, 8],\n",
    "            6: [3, 7],\n",
    "            7: [4, 6, 8],\n",
    "            8: [5, 7],\n",
    "        }\n",
    "        \n",
    "        results = []\n",
    "        pos_0 = node.index(0)\n",
    "        \n",
    "        for move in moves[pos_0]:\n",
    "            new_node = list(node)\n",
    "            new_node[move], new_node[pos_0] = new_node[pos_0], new_node[move]\n",
    "            results.append(tuple(new_node))\n",
    "        \n",
    "        return results\n",
    "\n",
    "# Example usage\n",
    "ob = Solution()\n",
    "matrix = [\n",
    "    [3, 1, 2],\n",
    "    [4, 7, 5],\n",
    "    [6, 8, 0]\n",
    "]\n",
    "print(ob.solve(matrix))"
   ]
  },
  {
   "cell_type": "code",
   "execution_count": null,
   "id": "2374cdd5-90c7-4090-977f-43bce1ea9ca0",
   "metadata": {},
   "outputs": [],
   "source": []
  }
 ],
 "metadata": {
  "kernelspec": {
   "display_name": "Python [conda env:base] *",
   "language": "python",
   "name": "conda-base-py"
  },
  "language_info": {
   "codemirror_mode": {
    "name": "ipython",
    "version": 3
   },
   "file_extension": ".py",
   "mimetype": "text/x-python",
   "name": "python",
   "nbconvert_exporter": "python",
   "pygments_lexer": "ipython3",
   "version": "3.12.7"
  }
 },
 "nbformat": 4,
 "nbformat_minor": 5
}
