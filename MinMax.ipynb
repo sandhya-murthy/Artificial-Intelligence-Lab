{
 "cells": [
  {
   "cell_type": "code",
   "execution_count": 1,
   "id": "61088726-5de1-4fd3-ae01-8d6463c30f6a",
   "metadata": {},
   "outputs": [
    {
     "name": "stdout",
     "output_type": "stream",
     "text": [
      "The optimal value is: 12\n"
     ]
    }
   ],
   "source": [
    "import math\n",
    "\n",
    "def minimax(curDepth, nodeIndex, maxTurn, scores, targetDepth):\n",
    "    # Base case: targetDepth reached\n",
    "    if curDepth == targetDepth:\n",
    "        return scores[nodeIndex]\n",
    "\n",
    "    if maxTurn:\n",
    "        return max(\n",
    "            minimax(curDepth + 1, nodeIndex * 2, False, scores, targetDepth),\n",
    "            minimax(curDepth + 1, nodeIndex * 2 + 1, False, scores, targetDepth)\n",
    "        )\n",
    "    else:\n",
    "        return min(\n",
    "            minimax(curDepth + 1, nodeIndex * 2, True, scores, targetDepth),\n",
    "            minimax(curDepth + 1, nodeIndex * 2 + 1, True, scores, targetDepth)\n",
    "        )\n",
    "\n",
    "# Driver code\n",
    "scores = [3, 5, 2, 9, 12, 5, 23, 23]\n",
    "treeDepth = int(math.log2(len(scores)))  # Ensure integer depth\n",
    "\n",
    "print(\"The optimal value is:\", minimax(0, 0, True, scores, treeDepth))\n"
   ]
  },
  {
   "cell_type": "code",
   "execution_count": null,
   "id": "956a8f30-95da-4267-93a6-319e233035ae",
   "metadata": {},
   "outputs": [],
   "source": []
  }
 ],
 "metadata": {
  "kernelspec": {
   "display_name": "Python [conda env:base] *",
   "language": "python",
   "name": "conda-base-py"
  },
  "language_info": {
   "codemirror_mode": {
    "name": "ipython",
    "version": 3
   },
   "file_extension": ".py",
   "mimetype": "text/x-python",
   "name": "python",
   "nbconvert_exporter": "python",
   "pygments_lexer": "ipython3",
   "version": "3.12.7"
  }
 },
 "nbformat": 4,
 "nbformat_minor": 5
}
