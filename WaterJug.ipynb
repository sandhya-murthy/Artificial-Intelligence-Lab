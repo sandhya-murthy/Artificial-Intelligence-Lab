{
 "cells": [
  {
   "cell_type": "code",
   "execution_count": 1,
   "id": "0f85039e-39af-40a9-9e56-45f49530cc0d",
   "metadata": {},
   "outputs": [
    {
     "name": "stdout",
     "output_type": "stream",
     "text": [
      "Path from initial state to solution state:\n",
      "( 0 , 0 )\n",
      "( 0 , 3 )\n",
      "( 4 , 0 )\n",
      "( 4 , 3 )\n",
      "( 3 , 0 )\n",
      "( 1 , 3 )\n",
      "( 3 , 3 )\n",
      "( 4 , 2 )\n",
      "( 0 , 2 )\n"
     ]
    }
   ],
   "source": [
    "from collections import deque\n",
    "\n",
    "def Solution(a, b, target):\n",
    "    m = {}\n",
    "    isSolvable = False\n",
    "    path = []\n",
    "    q = deque()\n",
    "    \n",
    "    # Initializing with jugs being empty\n",
    "    q.append((0, 0))\n",
    "    \n",
    "    while q:\n",
    "        # Current state\n",
    "        u = q.popleft()\n",
    "        \n",
    "        if (u[0], u[1]) in m:\n",
    "            continue\n",
    "        \n",
    "        if u[0] > a or u[1] > b or u[0] < 0 or u[1] < 0:\n",
    "            continue\n",
    "        \n",
    "        path.append([u[0], u[1]])\n",
    "        m[(u[0], u[1])] = 1\n",
    "        \n",
    "        if u[0] == target or u[1] == target:\n",
    "            isSolvable = True\n",
    "            \n",
    "            if u[0] == target and u[1] != 0:\n",
    "                path.append([u[0], 0])\n",
    "            elif u[0] != 0:\n",
    "                path.append([0, u[1]])\n",
    "            \n",
    "            sz = len(path)\n",
    "            for i in range(sz):\n",
    "                print(\"(\", path[i][0], \",\", path[i][1], \")\")\n",
    "            return\n",
    "        \n",
    "        # Fill Jug2\n",
    "        q.append((u[0], b))\n",
    "        \n",
    "        # Fill Jug1\n",
    "        q.append((a, u[1]))\n",
    "        \n",
    "        for ap in range(max(a, b) + 1):\n",
    "            c = u[0] + ap\n",
    "            d = u[1] - ap\n",
    "            if c == a or (d == 0 and d >= 0):\n",
    "                q.append((c, d))\n",
    "            \n",
    "            c = u[0] - ap\n",
    "            d = u[1] + ap\n",
    "            if (c == 0 and c >= 0) or d == b:\n",
    "                q.append((c, d))\n",
    "        \n",
    "        q.append((a, 0))\n",
    "        q.append((0, b))\n",
    "    \n",
    "    if not isSolvable:\n",
    "        print(\"Solution not possible\")\n",
    "\n",
    "if __name__ == '__main__':\n",
    "    Jug1, Jug2, target = 4, 3, 2\n",
    "    print(\"Path from initial state to solution state:\")\n",
    "    Solution(Jug1, Jug2, target)\n"
   ]
  },
  {
   "cell_type": "code",
   "execution_count": null,
   "id": "56fef4d5-caa4-4d96-8630-3abb8a708116",
   "metadata": {},
   "outputs": [],
   "source": []
  }
 ],
 "metadata": {
  "kernelspec": {
   "display_name": "Python [conda env:base] *",
   "language": "python",
   "name": "conda-base-py"
  },
  "language_info": {
   "codemirror_mode": {
    "name": "ipython",
    "version": 3
   },
   "file_extension": ".py",
   "mimetype": "text/x-python",
   "name": "python",
   "nbconvert_exporter": "python",
   "pygments_lexer": "ipython3",
   "version": "3.12.7"
  }
 },
 "nbformat": 4,
 "nbformat_minor": 5
}
