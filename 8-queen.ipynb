{
 "cells": [
  {
   "cell_type": "code",
   "execution_count": 1,
   "id": "2d680572-f011-467d-80a5-18e59309dfcc",
   "metadata": {},
   "outputs": [
    {
     "name": "stdout",
     "output_type": "stream",
     "text": [
      "Enter the number of queens\n"
     ]
    },
    {
     "name": "stdin",
     "output_type": "stream",
     "text": [
      " 8\n"
     ]
    },
    {
     "name": "stdout",
     "output_type": "stream",
     "text": [
      "Solution exists. Placements of queens:\n",
      "[1, 0, 0, 0, 0, 0, 0, 0]\n",
      "[0, 0, 0, 0, 1, 0, 0, 0]\n",
      "[0, 0, 0, 0, 0, 0, 0, 1]\n",
      "[0, 0, 0, 0, 0, 1, 0, 0]\n",
      "[0, 0, 1, 0, 0, 0, 0, 0]\n",
      "[0, 0, 0, 0, 0, 0, 1, 0]\n",
      "[0, 1, 0, 0, 0, 0, 0, 0]\n",
      "[0, 0, 0, 1, 0, 0, 0, 0]\n"
     ]
    }
   ],
   "source": [
    "print(\"Enter the number of queens\")\n",
    "N = int(input())\n",
    "\n",
    "# Create a chessboard NxN matrix with all elements set to 0\n",
    "board = [[0] * N for _ in range(N)]\n",
    "\n",
    "def is_safe(i, j):\n",
    "    # Checking vertically and horizontally\n",
    "    for k in range(N):\n",
    "        if board[i][k] == 1 or board[k][j] == 1:\n",
    "            return False\n",
    "\n",
    "    # Checking diagonally\n",
    "    for k in range(N):\n",
    "        for l in range(N):\n",
    "            if (k + l == i + j or k - l == i - j) and board[k][l] == 1:\n",
    "                return False\n",
    "    return True\n",
    "\n",
    "def solve_n_queens(n, row=0):\n",
    "    if row == N:\n",
    "        return True\n",
    "    \n",
    "    for j in range(N):\n",
    "        if is_safe(row, j):\n",
    "            board[row][j] = 1\n",
    "            if solve_n_queens(n - 1, row + 1):\n",
    "                return True\n",
    "            board[row][j] = 0\n",
    "    \n",
    "    return False\n",
    "\n",
    "# Check if a solution exists\n",
    "if solve_n_queens(N):\n",
    "    print(\"Solution exists. Placements of queens:\")\n",
    "    for row in board:\n",
    "        print(row)\n",
    "else:\n",
    "    print(\"No solution exists.\")\n"
   ]
  },
  {
   "cell_type": "code",
   "execution_count": null,
   "id": "758c1caa-5512-47e5-901c-e54cf36cc2c3",
   "metadata": {},
   "outputs": [],
   "source": []
  }
 ],
 "metadata": {
  "kernelspec": {
   "display_name": "Python [conda env:base] *",
   "language": "python",
   "name": "conda-base-py"
  },
  "language_info": {
   "codemirror_mode": {
    "name": "ipython",
    "version": 3
   },
   "file_extension": ".py",
   "mimetype": "text/x-python",
   "name": "python",
   "nbconvert_exporter": "python",
   "pygments_lexer": "ipython3",
   "version": "3.12.7"
  }
 },
 "nbformat": 4,
 "nbformat_minor": 5
}
